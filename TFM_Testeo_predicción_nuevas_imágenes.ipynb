{
  "nbformat": 4,
  "nbformat_minor": 0,
  "metadata": {
    "colab": {
      "provenance": [],
      "include_colab_link": true
    },
    "kernelspec": {
      "name": "python3",
      "display_name": "Python 3"
    },
    "language_info": {
      "name": "python"
    },
    "accelerator": "GPU"
  },
  "cells": [
    {
      "cell_type": "markdown",
      "metadata": {
        "id": "view-in-github",
        "colab_type": "text"
      },
      "source": [
        "<a href=\"https://colab.research.google.com/github/JALVARADORUIZ/UB_Proyecto/blob/main/TFM_Testeo_predicci%C3%B3n_nuevas_im%C3%A1genes.ipynb\" target=\"_parent\"><img src=\"https://colab.research.google.com/assets/colab-badge.svg\" alt=\"Open In Colab\"/></a>"
      ]
    },
    {
      "cell_type": "markdown",
      "source": [
        "#**Procesado de nuevas imágenes**"
      ],
      "metadata": {
        "id": "CrSyQOA9SL_6"
      }
    },
    {
      "cell_type": "code",
      "execution_count": null,
      "metadata": {
        "colab": {
          "base_uri": "https://localhost:8080/"
        },
        "id": "SA7hrAXUSLFf",
        "outputId": "4c8a77c6-2444-46e9-ab5b-bab79590ab2a"
      },
      "outputs": [
        {
          "output_type": "stream",
          "name": "stdout",
          "text": [
            "Mounted at /content/drive\n"
          ]
        }
      ],
      "source": [
        "from google.colab import drive\n",
        "drive.mount('/content/drive', force_remount=True)"
      ]
    },
    {
      "cell_type": "code",
      "source": [
        "from keras.preprocessing.image import load_img \n",
        "from keras.preprocessing.image import img_to_array \n",
        "from keras.applications.vgg16 import preprocess_input \n",
        "from keras.applications.vgg16 import VGG16 \n",
        "from keras.models import Model\n",
        "from sklearn.cluster import KMeans\n",
        "from sklearn.decomposition import PCA\n",
        "import os\n",
        "import tensorflow as tf\n",
        "import numpy as np\n",
        "import matplotlib.pyplot as plt\n",
        "from random import randint\n",
        "import pandas as pd\n",
        "import pickle\n",
        "from PIL import Image\n",
        "from io import BytesIO\n",
        "import matplotlib.pyplot as plt\n",
        "import numpy as np\n",
        "import pathlib\n",
        "import torch\n",
        "import torch.optim as optim\n",
        "import requests\n",
        "from torchvision import transforms, models\n",
        "import joblib\n",
        "from sklearn.preprocessing import StandardScaler\n",
        "\n",
        "\n",
        " "
      ],
      "metadata": {
        "id": "ia7EdgilS0Ns"
      },
      "execution_count": null,
      "outputs": []
    },
    {
      "cell_type": "markdown",
      "source": [
        "**Input**"
      ],
      "metadata": {
        "id": "HYMTaiLiSTA3"
      }
    },
    {
      "cell_type": "code",
      "source": [
        "from google.colab import files\n",
        "import cv2\n",
        "import matplotlib.pyplot as plt"
      ],
      "metadata": {
        "id": "K99Fr1UqV6MK"
      },
      "execution_count": null,
      "outputs": []
    },
    {
      "cell_type": "code",
      "source": [
        "uploaded = files.upload()"
      ],
      "metadata": {
        "colab": {
          "base_uri": "https://localhost:8080/",
          "height": 73
        },
        "id": "fy9L6NWLckav",
        "outputId": "c2248cc4-e299-4b21-9d76-25ff26cfd772"
      },
      "execution_count": null,
      "outputs": [
        {
          "output_type": "display_data",
          "data": {
            "text/plain": [
              "<IPython.core.display.HTML object>"
            ],
            "text/html": [
              "\n",
              "     <input type=\"file\" id=\"files-512f258a-8d79-4fbb-8d94-38a1d91dd316\" name=\"files[]\" multiple disabled\n",
              "        style=\"border:none\" />\n",
              "     <output id=\"result-512f258a-8d79-4fbb-8d94-38a1d91dd316\">\n",
              "      Upload widget is only available when the cell has been executed in the\n",
              "      current browser session. Please rerun this cell to enable.\n",
              "      </output>\n",
              "      <script>// Copyright 2017 Google LLC\n",
              "//\n",
              "// Licensed under the Apache License, Version 2.0 (the \"License\");\n",
              "// you may not use this file except in compliance with the License.\n",
              "// You may obtain a copy of the License at\n",
              "//\n",
              "//      http://www.apache.org/licenses/LICENSE-2.0\n",
              "//\n",
              "// Unless required by applicable law or agreed to in writing, software\n",
              "// distributed under the License is distributed on an \"AS IS\" BASIS,\n",
              "// WITHOUT WARRANTIES OR CONDITIONS OF ANY KIND, either express or implied.\n",
              "// See the License for the specific language governing permissions and\n",
              "// limitations under the License.\n",
              "\n",
              "/**\n",
              " * @fileoverview Helpers for google.colab Python module.\n",
              " */\n",
              "(function(scope) {\n",
              "function span(text, styleAttributes = {}) {\n",
              "  const element = document.createElement('span');\n",
              "  element.textContent = text;\n",
              "  for (const key of Object.keys(styleAttributes)) {\n",
              "    element.style[key] = styleAttributes[key];\n",
              "  }\n",
              "  return element;\n",
              "}\n",
              "\n",
              "// Max number of bytes which will be uploaded at a time.\n",
              "const MAX_PAYLOAD_SIZE = 100 * 1024;\n",
              "\n",
              "function _uploadFiles(inputId, outputId) {\n",
              "  const steps = uploadFilesStep(inputId, outputId);\n",
              "  const outputElement = document.getElementById(outputId);\n",
              "  // Cache steps on the outputElement to make it available for the next call\n",
              "  // to uploadFilesContinue from Python.\n",
              "  outputElement.steps = steps;\n",
              "\n",
              "  return _uploadFilesContinue(outputId);\n",
              "}\n",
              "\n",
              "// This is roughly an async generator (not supported in the browser yet),\n",
              "// where there are multiple asynchronous steps and the Python side is going\n",
              "// to poll for completion of each step.\n",
              "// This uses a Promise to block the python side on completion of each step,\n",
              "// then passes the result of the previous step as the input to the next step.\n",
              "function _uploadFilesContinue(outputId) {\n",
              "  const outputElement = document.getElementById(outputId);\n",
              "  const steps = outputElement.steps;\n",
              "\n",
              "  const next = steps.next(outputElement.lastPromiseValue);\n",
              "  return Promise.resolve(next.value.promise).then((value) => {\n",
              "    // Cache the last promise value to make it available to the next\n",
              "    // step of the generator.\n",
              "    outputElement.lastPromiseValue = value;\n",
              "    return next.value.response;\n",
              "  });\n",
              "}\n",
              "\n",
              "/**\n",
              " * Generator function which is called between each async step of the upload\n",
              " * process.\n",
              " * @param {string} inputId Element ID of the input file picker element.\n",
              " * @param {string} outputId Element ID of the output display.\n",
              " * @return {!Iterable<!Object>} Iterable of next steps.\n",
              " */\n",
              "function* uploadFilesStep(inputId, outputId) {\n",
              "  const inputElement = document.getElementById(inputId);\n",
              "  inputElement.disabled = false;\n",
              "\n",
              "  const outputElement = document.getElementById(outputId);\n",
              "  outputElement.innerHTML = '';\n",
              "\n",
              "  const pickedPromise = new Promise((resolve) => {\n",
              "    inputElement.addEventListener('change', (e) => {\n",
              "      resolve(e.target.files);\n",
              "    });\n",
              "  });\n",
              "\n",
              "  const cancel = document.createElement('button');\n",
              "  inputElement.parentElement.appendChild(cancel);\n",
              "  cancel.textContent = 'Cancel upload';\n",
              "  const cancelPromise = new Promise((resolve) => {\n",
              "    cancel.onclick = () => {\n",
              "      resolve(null);\n",
              "    };\n",
              "  });\n",
              "\n",
              "  // Wait for the user to pick the files.\n",
              "  const files = yield {\n",
              "    promise: Promise.race([pickedPromise, cancelPromise]),\n",
              "    response: {\n",
              "      action: 'starting',\n",
              "    }\n",
              "  };\n",
              "\n",
              "  cancel.remove();\n",
              "\n",
              "  // Disable the input element since further picks are not allowed.\n",
              "  inputElement.disabled = true;\n",
              "\n",
              "  if (!files) {\n",
              "    return {\n",
              "      response: {\n",
              "        action: 'complete',\n",
              "      }\n",
              "    };\n",
              "  }\n",
              "\n",
              "  for (const file of files) {\n",
              "    const li = document.createElement('li');\n",
              "    li.append(span(file.name, {fontWeight: 'bold'}));\n",
              "    li.append(span(\n",
              "        `(${file.type || 'n/a'}) - ${file.size} bytes, ` +\n",
              "        `last modified: ${\n",
              "            file.lastModifiedDate ? file.lastModifiedDate.toLocaleDateString() :\n",
              "                                    'n/a'} - `));\n",
              "    const percent = span('0% done');\n",
              "    li.appendChild(percent);\n",
              "\n",
              "    outputElement.appendChild(li);\n",
              "\n",
              "    const fileDataPromise = new Promise((resolve) => {\n",
              "      const reader = new FileReader();\n",
              "      reader.onload = (e) => {\n",
              "        resolve(e.target.result);\n",
              "      };\n",
              "      reader.readAsArrayBuffer(file);\n",
              "    });\n",
              "    // Wait for the data to be ready.\n",
              "    let fileData = yield {\n",
              "      promise: fileDataPromise,\n",
              "      response: {\n",
              "        action: 'continue',\n",
              "      }\n",
              "    };\n",
              "\n",
              "    // Use a chunked sending to avoid message size limits. See b/62115660.\n",
              "    let position = 0;\n",
              "    do {\n",
              "      const length = Math.min(fileData.byteLength - position, MAX_PAYLOAD_SIZE);\n",
              "      const chunk = new Uint8Array(fileData, position, length);\n",
              "      position += length;\n",
              "\n",
              "      const base64 = btoa(String.fromCharCode.apply(null, chunk));\n",
              "      yield {\n",
              "        response: {\n",
              "          action: 'append',\n",
              "          file: file.name,\n",
              "          data: base64,\n",
              "        },\n",
              "      };\n",
              "\n",
              "      let percentDone = fileData.byteLength === 0 ?\n",
              "          100 :\n",
              "          Math.round((position / fileData.byteLength) * 100);\n",
              "      percent.textContent = `${percentDone}% done`;\n",
              "\n",
              "    } while (position < fileData.byteLength);\n",
              "  }\n",
              "\n",
              "  // All done.\n",
              "  yield {\n",
              "    response: {\n",
              "      action: 'complete',\n",
              "    }\n",
              "  };\n",
              "}\n",
              "\n",
              "scope.google = scope.google || {};\n",
              "scope.google.colab = scope.google.colab || {};\n",
              "scope.google.colab._files = {\n",
              "  _uploadFiles,\n",
              "  _uploadFilesContinue,\n",
              "};\n",
              "})(self);\n",
              "</script> "
            ]
          },
          "metadata": {}
        },
        {
          "output_type": "stream",
          "name": "stdout",
          "text": [
            "Saving 10523934.jpg to 10523934 (1).jpg\n"
          ]
        }
      ]
    },
    {
      "cell_type": "code",
      "source": [
        "filename = next(iter(uploaded))\n",
        "filename"
      ],
      "metadata": {
        "colab": {
          "base_uri": "https://localhost:8080/",
          "height": 35
        },
        "id": "dsOkaWj99RFG",
        "outputId": "96c64682-a0bf-459a-f8d4-f9001e5b0ec2"
      },
      "execution_count": null,
      "outputs": [
        {
          "output_type": "execute_result",
          "data": {
            "text/plain": [
              "'10523934.jpg'"
            ],
            "application/vnd.google.colaboratory.intrinsic+json": {
              "type": "string"
            }
          },
          "metadata": {},
          "execution_count": 17
        }
      ]
    },
    {
      "cell_type": "code",
      "source": [
        "import matplotlib.image as mpimg"
      ],
      "metadata": {
        "id": "Ds_zQtizeDjE"
      },
      "execution_count": null,
      "outputs": []
    },
    {
      "cell_type": "code",
      "source": [
        "import cv2"
      ],
      "metadata": {
        "id": "Q4VmgISVUCzd"
      },
      "execution_count": null,
      "outputs": []
    },
    {
      "cell_type": "markdown",
      "source": [
        "**Procesado**"
      ],
      "metadata": {
        "id": "mTfuHEwsj35k"
      }
    },
    {
      "cell_type": "code",
      "source": [
        "model = VGG16()\n"
      ],
      "metadata": {
        "id": "3FfftgovUm5k"
      },
      "execution_count": null,
      "outputs": []
    },
    {
      "cell_type": "code",
      "source": [
        "precio1 = pd.read_csv('/content/drive/MyDrive/TFM_Máster BDDS/Diccionarios/dicc_price_cat_svm.csv')\n",
        "print(precio1)\n",
        "print(f'Cargando modelos...')\n",
        "precio_cat_cnn = joblib.load('/content/drive//MyDrive/TFM_Máster BDDS/Modelos/modelo_cnn_dropout_precio_categorica_v2.pkl')\n",
        "precio_cont_ccn = joblib.load('/content/drive//MyDrive/TFM_Máster BDDS/Modelos/modelo_cnn_precio_continua.pkl')\n",
        "\n",
        "image = cv2.imread(filename, cv2.IMREAD_COLOR)\n",
        "image = cv2.resize(image, (128, 128))\n",
        "image = cv2.cvtColor(image, cv2.COLOR_RGB2BGR)\n",
        "image = np.array(image)\n",
        "plt.imshow(image, cmap=plt.cm.binary)\n",
        "image = image.reshape(1,128,128,3)\n",
        "\n",
        "z = np.argmax(precio_cat_cnn.predict(image),axis=1)\n",
        "print(z)\n",
        "print(image.shape)\n",
        "print(f'Método de predicción: {precio_cat_cnn}')\n",
        "print(f'Precio: {np.argmax(precio_cat_cnn.predict(image),axis=1)}')\n",
        "print(f'Método de predicción: {precio_cont_ccn}')\n",
        "print(f'Precio: {precio_cont_ccn.predict(image)}')"
      ],
      "metadata": {
        "colab": {
          "base_uri": "https://localhost:8080/",
          "height": 496
        },
        "id": "b99e9VlvhXxo",
        "outputId": "cb938303-62f7-44ae-e261-45bf5ca01abd"
      },
      "execution_count": null,
      "outputs": [
        {
          "output_type": "stream",
          "name": "stdout",
          "text": [
            "   Unnamed: 0 etiqueta\n",
            "0           0     alto\n",
            "1           1     bajo\n",
            "2           2    medio\n",
            "Cargando modelos...\n"
          ]
        },
        {
          "output_type": "stream",
          "name": "stderr",
          "text": [
            "WARNING:tensorflow:5 out of the last 7 calls to <function Model.make_predict_function.<locals>.predict_function at 0x7f742347a200> triggered tf.function retracing. Tracing is expensive and the excessive number of tracings could be due to (1) creating @tf.function repeatedly in a loop, (2) passing tensors with different shapes, (3) passing Python objects instead of tensors. For (1), please define your @tf.function outside of the loop. For (2), @tf.function has experimental_relax_shapes=True option that relaxes argument shapes that can avoid unnecessary retracing. For (3), please refer to https://www.tensorflow.org/guide/function#controlling_retracing and https://www.tensorflow.org/api_docs/python/tf/function for  more details.\n"
          ]
        },
        {
          "output_type": "stream",
          "name": "stdout",
          "text": [
            "[1]\n",
            "(1, 128, 128, 3)\n",
            "Método de predicción: <keras.engine.sequential.Sequential object at 0x7f7320493610>\n",
            "Precio: [1]\n",
            "Método de predicción: <keras.engine.sequential.Sequential object at 0x7f722d56ffd0>\n",
            "Precio: [[58.45548]]\n"
          ]
        },
        {
          "output_type": "display_data",
          "data": {
            "text/plain": [
              "<Figure size 432x288 with 1 Axes>"
            ],
            "image/png": "[encoded data removed]"
          },
          "metadata": {
            "needs_background": "light"
          }
        }
      ]
    },
    {
      "cell_type": "code",
      "source": [
        "img = mpimg.imread(filename)\n",
        "plt.imshow(img)\n",
        "img = load_img(filename, target_size=(224,224))\n",
        "img = np.array(img)\n",
        "print(f'Shape Original:{img.shape}')\n",
        "reshaped_img = img.reshape(1,224,224,3)\n",
        "print(f'Imagen reshaped a 224,224:{reshaped_img.shape}')\n",
        "print('Preprocesado de imagen...')\n",
        "x = preprocess_input(reshaped_img)\n",
        "print(f'Cargando VGG16 model...')\n",
        "model = VGG16()\n",
        "model = Model(inputs=model.inputs, outputs=model.layers[-2].output)\n",
        "print(f'Extrayendo principales componentes...')\n",
        "features = model.predict(x, use_multiprocessing=True)\n",
        "print(f'Features{features}')\n",
        "features = np.array(features)\n",
        "features.shape\n",
        "bad_indices = np.where(np.isinf(features))\n",
        "\n",
        "print(bad_indices)\n",
        "print(f'Corriendo análisis PCA...')\n",
        "\n",
        "df= pd.DataFrame(features)\n",
        "df= pd.DataFrame(np.repeat(df.values, 2000, axis=0))\n",
        "print(df.describe())\n",
        "pca = PCA(n_components=1000 ,random_state=33)\n",
        "pca.fit(df)\n",
        "df = pca.transform(df)\n",
        "\n",
        "print(f'Shape: {features.shape}')\n",
        "object = StandardScaler()\n",
        "df = object.fit_transform(df)\n",
        "\n",
        "df = pd.DataFrame(df)\n",
        "df = df.head(1)\n",
        "print('SVM:')\n",
        "precio_cat = pd.read_csv('/content/drive/MyDrive/TFM_Máster BDDS/Diccionarios/dicc_price_cat_svm.csv')\n",
        "\n",
        "print(f'Cargando modelos...')\n",
        "precio_cont_svr = joblib.load('/content/drive//MyDrive/TFM_Máster BDDS/Modelos/modelo_svm_precio_continua.pkl')\n",
        "precio_cat_svm = joblib.load('/content/drive//MyDrive/TFM_Máster BDDS/Modelos/modelo_svm_precio_categorica.pkl')\n",
        "print(precio_cat_svm.predict(df.values))\n",
        "print(f\"Precio: {precio_cont_svr.predict(df.values)}\")\n",
        "print(f\"Precio: {precio_cat['etiqueta'].iloc[precio_cat_svm.predict(df.values)].values}\")"
      ],
      "metadata": {
        "colab": {
          "base_uri": "https://localhost:8080/",
          "height": 1000
        },
        "id": "MCgZhZvPcdbC",
        "outputId": "6a2cc53a-283b-40ee-e90b-757315479512"
      },
      "execution_count": null,
      "outputs": [
        {
          "output_type": "stream",
          "name": "stdout",
          "text": [
            "Shape Original:(224, 224, 3)\n",
            "Imagen reshaped a 224,224:(1, 224, 224, 3)\n",
            "Preprocesado de imagen...\n",
            "Cargando VGG16 model...\n"
          ]
        },
        {
          "output_type": "stream",
          "name": "stderr",
          "text": [
            "WARNING:tensorflow:6 out of the last 8 calls to <function Model.make_predict_function.<locals>.predict_function at 0x7f742342ccb0> triggered tf.function retracing. Tracing is expensive and the excessive number of tracings could be due to (1) creating @tf.function repeatedly in a loop, (2) passing tensors with different shapes, (3) passing Python objects instead of tensors. For (1), please define your @tf.function outside of the loop. For (2), @tf.function has experimental_relax_shapes=True option that relaxes argument shapes that can avoid unnecessary retracing. For (3), please refer to https://www.tensorflow.org/guide/function#controlling_retracing and https://www.tensorflow.org/api_docs/python/tf/function for  more details.\n"
          ]
        },
        {
          "output_type": "stream",
          "name": "stdout",
          "text": [
            "Extrayendo principales componentes...\n",
            "Features[[0.        0.        0.        ... 1.8096452 0.        1.6565018]]\n",
            "(array([], dtype=int64), array([], dtype=int64))\n",
            "Corriendo análisis PCA...\n",
            "         0       1       2       3       4       5       6       7       8     \\\n",
            "count  2000.0  2000.0  2000.0  2000.0  2000.0  2000.0  2000.0  2000.0  2000.0   \n",
            "mean      0.0     0.0     0.0     0.0     0.0     0.0     0.0     0.0     0.0   \n",
            "std       0.0     0.0     0.0     0.0     0.0     0.0     0.0     0.0     0.0   \n",
            "min       0.0     0.0     0.0     0.0     0.0     0.0     0.0     0.0     0.0   \n",
            "25%       0.0     0.0     0.0     0.0     0.0     0.0     0.0     0.0     0.0   \n",
            "50%       0.0     0.0     0.0     0.0     0.0     0.0     0.0     0.0     0.0   \n",
            "75%       0.0     0.0     0.0     0.0     0.0     0.0     0.0     0.0     0.0   \n",
            "max       0.0     0.0     0.0     0.0     0.0     0.0     0.0     0.0     0.0   \n",
            "\n",
            "              9     ...    4086    4087    4088    4089    4090    4091  \\\n",
            "count  2000.000000  ...  2000.0  2000.0  2000.0  2000.0  2000.0  2000.0   \n",
            "mean      0.118154  ...     0.0     0.0     0.0     0.0     0.0     0.0   \n",
            "std       0.000000  ...     0.0     0.0     0.0     0.0     0.0     0.0   \n",
            "min       0.118154  ...     0.0     0.0     0.0     0.0     0.0     0.0   \n",
            "25%       0.118154  ...     0.0     0.0     0.0     0.0     0.0     0.0   \n",
            "50%       0.118154  ...     0.0     0.0     0.0     0.0     0.0     0.0   \n",
            "75%       0.118154  ...     0.0     0.0     0.0     0.0     0.0     0.0   \n",
            "max       0.118154  ...     0.0     0.0     0.0     0.0     0.0     0.0   \n",
            "\n",
            "              4092         4093    4094         4095  \n",
            "count  2000.000000  2000.000000  2000.0  2000.000000  \n",
            "mean      0.378029     1.809645     0.0     1.656502  \n",
            "std       0.000000     0.000000     0.0     0.000000  \n",
            "min       0.378029     1.809645     0.0     1.656502  \n",
            "25%       0.378029     1.809645     0.0     1.656502  \n",
            "50%       0.378029     1.809645     0.0     1.656502  \n",
            "75%       0.378029     1.809645     0.0     1.656502  \n",
            "max       0.378029     1.809645     0.0     1.656502  \n",
            "\n",
            "[8 rows x 4096 columns]\n"
          ]
        },
        {
          "output_type": "stream",
          "name": "stderr",
          "text": [
            "/usr/local/lib/python3.7/dist-packages/sklearn/decomposition/_pca.py:595: RuntimeWarning: divide by zero encountered in true_divide\n",
            "  self.explained_variance_ratio_ = self.explained_variance_ / total_var.sum()\n"
          ]
        },
        {
          "output_type": "stream",
          "name": "stdout",
          "text": [
            "Shape: (1, 4096)\n",
            "SVM:\n",
            "Cargando modelos...\n",
            "[2]\n",
            "Precio: [50.31743505]\n",
            "Precio: ['medio']\n"
          ]
        },
        {
          "output_type": "display_data",
          "data": {
            "text/plain": [
              "<Figure size 432x288 with 1 Axes>"
            ],
            "image/png": "[encoded data removed]"
          },
          "metadata": {
            "needs_background": "light"
          }
        }
      ]
    }
  ]
}