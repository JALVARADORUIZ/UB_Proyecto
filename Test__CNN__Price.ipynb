{
  "nbformat": 4,
  "nbformat_minor": 0,
  "metadata": {
    "colab": {
      "provenance": [],
      "collapsed_sections": [],
      "machine_shape": "hm",
      "include_colab_link": true
    },
    "kernelspec": {
      "name": "python3",
      "display_name": "Python 3"
    },
    "language_info": {
      "name": "python"
    },
    "accelerator": "GPU"
  },
  "cells": [
    {
      "cell_type": "markdown",
      "metadata": {
        "id": "view-in-github",
        "colab_type": "text"
      },
      "source": [
        "<a href=\"https://colab.research.google.com/github/JALVARADORUIZ/UB_Proyecto/blob/main/Test__CNN__Price.ipynb\" target=\"_parent\"><img src=\"https://colab.research.google.com/assets/colab-badge.svg\" alt=\"Open In Colab\"/></a>"
      ]
    },
    {
      "cell_type": "code",
      "execution_count": null,
      "metadata": {
        "colab": {
          "base_uri": "https://localhost:8080/"
        },
        "id": "TLgDsoxvh1R0",
        "outputId": "5296788f-e957-4692-801e-6fd54cd918ff"
      },
      "outputs": [
        {
          "output_type": "stream",
          "name": "stdout",
          "text": [
            "Notebook run using keras: 2.8.0\n"
          ]
        }
      ],
      "source": [
        "import os\n",
        "import keras\n",
        "import skimage\n",
        "from keras.applications import inception_v3 as inc_net\n",
        "from keras.preprocessing import image\n",
        "from keras.applications.imagenet_utils import decode_predictions\n",
        "from skimage.io import imread\n",
        "from skimage.segmentation import mark_boundaries\n",
        "import matplotlib.pyplot as plt\n",
        "%matplotlib inline\n",
        "import numpy as np\n",
        "print('Notebook run using keras:', keras.__version__)"
      ]
    },
    {
      "cell_type": "code",
      "source": [
        "import numpy as np \n",
        "import pandas as pd\n",
        "import cv2\n",
        "import glob\n",
        "import os\n",
        "import matplotlib.pyplot as plt\n",
        "import string\n",
        "from mlxtend.plotting import plot_decision_regions\n",
        "from mpl_toolkits.mplot3d import Axes3D\n",
        "from sklearn.decomposition import PCA\n",
        "from sklearn.preprocessing import StandardScaler\n",
        "from sklearn.neighbors import KNeighborsClassifier\n",
        "from sklearn.tree import DecisionTreeClassifier \n",
        "from sklearn.model_selection import train_test_split, cross_val_score\n",
        "from sklearn.utils.multiclass import unique_labels\n",
        "from sklearn.preprocessing import LabelEncoder, OrdinalEncoder\n",
        "from sklearn import metrics\n",
        "from sklearn.svm import SVC\n",
        "\n",
        "from tqdm import tqdm\n",
        "tqdm.pandas()\n",
        "\n",
        "\n",
        "dim = 128"
      ],
      "metadata": {
        "id": "wQTlrV3A451f"
      },
      "execution_count": null,
      "outputs": []
    },
    {
      "cell_type": "code",
      "source": [
        "from keras.preprocessing.image import ImageDataGenerator\n",
        "from keras.models import Sequential\n",
        "from keras.layers import Conv2D, MaxPooling2D\n",
        "from keras.layers import Activation, Dropout, Flatten, Dense\n",
        "from keras import backend as K"
      ],
      "metadata": {
        "id": "BCzPFShiEd8F"
      },
      "execution_count": null,
      "outputs": []
    },
    {
      "cell_type": "code",
      "source": [
        "import pandas as pd"
      ],
      "metadata": {
        "id": "YRL3QXTr2yhA"
      },
      "execution_count": null,
      "outputs": []
    },
    {
      "cell_type": "code",
      "source": [
        "from google.colab import drive\n",
        "drive.mount('/content/drive', force_remount=True)"
      ],
      "metadata": {
        "colab": {
          "base_uri": "https://localhost:8080/"
        },
        "id": "b0rFlTWL3G92",
        "outputId": "f27768c8-4cc6-4e07-8a1e-b8eafc1d7ef6"
      },
      "execution_count": null,
      "outputs": [
        {
          "output_type": "stream",
          "name": "stdout",
          "text": [
            "Mounted at /content/drive\n"
          ]
        }
      ]
    },
    {
      "cell_type": "code",
      "source": [
        "df = pd.read_csv('/content/drive/MyDrive/TFM_Máster BDDS/datawine/df_img_processed.csv')\n",
        "df = df.iloc[:,:15]\n",
        "df.head(1)"
      ],
      "metadata": {
        "colab": {
          "base_uri": "https://localhost:8080/",
          "height": 249
        },
        "id": "bbo8p4HN3Av8",
        "outputId": "74a23e52-ccc5-4534-babd-46d32f9b88a4"
      },
      "execution_count": null,
      "outputs": [
        {
          "output_type": "execute_result",
          "data": {
            "text/plain": [
              "        winery                                   product            region  \\\n",
              "0  louis jadot  louis jadot corton grand cru greves 2006  corton grand cru   \n",
              "\n",
              "  country_code  rating     variety  price_usd  \\\n",
              "0           fr     4.0  pinot noir      89.99   \n",
              "\n",
              "                                               image continente  \\\n",
              "0  vintage-images/TJyGXkvdQsSBDVqT8hHDtg_pl_480x6...     europe   \n",
              "\n",
              "  country_code_clean price_cat rating_cat    quality color  \\\n",
              "0             france      alto  muy bueno  grand cru   red   \n",
              "\n",
              "                             image_clean  \n",
              "0  TJyGXkvdQsSBDVqT8hHDtg_pl_480x640.png  "
            ],
            "text/html": [
              "\n",
              "  <div id=\"df-cd32acbf-d974-4d5c-9067-76035ed93be2\">\n",
              "    <div class=\"colab-df-container\">\n",
              "      <div>\n",
              "<style scoped>\n",
              "    .dataframe tbody tr th:only-of-type {\n",
              "        vertical-align: middle;\n",
              "    }\n",
              "\n",
              "    .dataframe tbody tr th {\n",
              "        vertical-align: top;\n",
              "    }\n",
              "\n",
              "    .dataframe thead th {\n",
              "        text-align: right;\n",
              "    }\n",
              "</style>\n",
              "<table border=\"1\" class=\"dataframe\">\n",
              "  <thead>\n",
              "    <tr style=\"text-align: right;\">\n",
              "      <th></th>\n",
              "      <th>winery</th>\n",
              "      <th>product</th>\n",
              "      <th>region</th>\n",
              "      <th>country_code</th>\n",
              "      <th>rating</th>\n",
              "      <th>variety</th>\n",
              "      <th>price_usd</th>\n",
              "      <th>image</th>\n",
              "      <th>continente</th>\n",
              "      <th>country_code_clean</th>\n",
              "      <th>price_cat</th>\n",
              "      <th>rating_cat</th>\n",
              "      <th>quality</th>\n",
              "      <th>color</th>\n",
              "      <th>image_clean</th>\n",
              "    </tr>\n",
              "  </thead>\n",
              "  <tbody>\n",
              "    <tr>\n",
              "      <th>0</th>\n",
              "      <td>louis jadot</td>\n",
              "      <td>louis jadot corton grand cru greves 2006</td>\n",
              "      <td>corton grand cru</td>\n",
              "      <td>fr</td>\n",
              "      <td>4.0</td>\n",
              "      <td>pinot noir</td>\n",
              "      <td>89.99</td>\n",
              "      <td>vintage-images/TJyGXkvdQsSBDVqT8hHDtg_pl_480x6...</td>\n",
              "      <td>europe</td>\n",
              "      <td>france</td>\n",
              "      <td>alto</td>\n",
              "      <td>muy bueno</td>\n",
              "      <td>grand cru</td>\n",
              "      <td>red</td>\n",
              "      <td>TJyGXkvdQsSBDVqT8hHDtg_pl_480x640.png</td>\n",
              "    </tr>\n",
              "  </tbody>\n",
              "</table>\n",
              "</div>\n",
              "      <button class=\"colab-df-convert\" onclick=\"convertToInteractive('df-cd32acbf-d974-4d5c-9067-76035ed93be2')\"\n",
              "              title=\"Convert this dataframe to an interactive table.\"\n",
              "              style=\"display:none;\">\n",
              "        \n",
              "  <svg xmlns=\"http://www.w3.org/2000/svg\" height=\"24px\"viewBox=\"0 0 24 24\"\n",
              "       width=\"24px\">\n",
              "    <path d=\"M0 0h24v24H0V0z\" fill=\"none\"/>\n",
              "    <path d=\"M18.56 5.44l.94 2.06.94-2.06 2.06-.94-2.06-.94-.94-2.06-.94 2.06-2.06.94zm-11 1L8.5 8.5l.94-2.06 2.06-.94-2.06-.94L8.5 2.5l-.94 2.06-2.06.94zm10 10l.94 2.06.94-2.06 2.06-.94-2.06-.94-.94-2.06-.94 2.06-2.06.94z\"/><path d=\"M17.41 7.96l-1.37-1.37c-.4-.4-.92-.59-1.43-.59-.52 0-1.04.2-1.43.59L10.3 9.45l-7.72 7.72c-.78.78-.78 2.05 0 2.83L4 21.41c.39.39.9.59 1.41.59.51 0 1.02-.2 1.41-.59l7.78-7.78 2.81-2.81c.8-.78.8-2.07 0-2.86zM5.41 20L4 18.59l7.72-7.72 1.47 1.35L5.41 20z\"/>\n",
              "  </svg>\n",
              "      </button>\n",
              "      \n",
              "  <style>\n",
              "    .colab-df-container {\n",
              "      display:flex;\n",
              "      flex-wrap:wrap;\n",
              "      gap: 12px;\n",
              "    }\n",
              "\n",
              "    .colab-df-convert {\n",
              "      background-color: #E8F0FE;\n",
              "      border: none;\n",
              "      border-radius: 50%;\n",
              "      cursor: pointer;\n",
              "      display: none;\n",
              "      fill: #1967D2;\n",
              "      height: 32px;\n",
              "      padding: 0 0 0 0;\n",
              "      width: 32px;\n",
              "    }\n",
              "\n",
              "    .colab-df-convert:hover {\n",
              "      background-color: #E2EBFA;\n",
              "      box-shadow: 0px 1px 2px rgba(60, 64, 67, 0.3), 0px 1px 3px 1px rgba(60, 64, 67, 0.15);\n",
              "      fill: #174EA6;\n",
              "    }\n",
              "\n",
              "    [theme=dark] .colab-df-convert {\n",
              "      background-color: #3B4455;\n",
              "      fill: #D2E3FC;\n",
              "    }\n",
              "\n",
              "    [theme=dark] .colab-df-convert:hover {\n",
              "      background-color: #434B5C;\n",
              "      box-shadow: 0px 1px 3px 1px rgba(0, 0, 0, 0.15);\n",
              "      filter: drop-shadow(0px 1px 2px rgba(0, 0, 0, 0.3));\n",
              "      fill: #FFFFFF;\n",
              "    }\n",
              "  </style>\n",
              "\n",
              "      <script>\n",
              "        const buttonEl =\n",
              "          document.querySelector('#df-cd32acbf-d974-4d5c-9067-76035ed93be2 button.colab-df-convert');\n",
              "        buttonEl.style.display =\n",
              "          google.colab.kernel.accessAllowed ? 'block' : 'none';\n",
              "\n",
              "        async function convertToInteractive(key) {\n",
              "          const element = document.querySelector('#df-cd32acbf-d974-4d5c-9067-76035ed93be2');\n",
              "          const dataTable =\n",
              "            await google.colab.kernel.invokeFunction('convertToInteractive',\n",
              "                                                     [key], {});\n",
              "          if (!dataTable) return;\n",
              "\n",
              "          const docLinkHtml = 'Like what you see? Visit the ' +\n",
              "            '<a target=\"_blank\" href=https://colab.research.google.com/notebooks/data_table.ipynb>data table notebook</a>'\n",
              "            + ' to learn more about interactive tables.';\n",
              "          element.innerHTML = '';\n",
              "          dataTable['output_type'] = 'display_data';\n",
              "          await google.colab.output.renderOutput(dataTable, element);\n",
              "          const docLink = document.createElement('div');\n",
              "          docLink.innerHTML = docLinkHtml;\n",
              "          element.appendChild(docLink);\n",
              "        }\n",
              "      </script>\n",
              "    </div>\n",
              "  </div>\n",
              "  "
            ]
          },
          "metadata": {},
          "execution_count": 6
        }
      ]
    },
    {
      "cell_type": "code",
      "source": [
        "'''df_variety = df['variety'].value_counts().rename_axis('variety').to_frame('counts')\n",
        "df_variety_selected = df_variety[:15]\n",
        "list_variety = list(df_variety_selected.index)\n",
        "\n",
        "def transform_variety(variety, list_variety):\n",
        "  if variety in list_variety:\n",
        "    return variety\n",
        "  else:\n",
        "    return \"other\"\n",
        "\n",
        "df['variety'] = df.progress_apply(lambda x:transform_variety(x.variety,list_variety), axis=1)'''\n"
      ],
      "metadata": {
        "colab": {
          "base_uri": "https://localhost:8080/",
          "height": 70
        },
        "id": "Hr-WKhJ4_Tm2",
        "outputId": "735d8bab-16e7-4ccd-c162-275d1dc8f3cf"
      },
      "execution_count": null,
      "outputs": [
        {
          "output_type": "execute_result",
          "data": {
            "text/plain": [
              "'df_variety = df[\\'variety\\'].value_counts().rename_axis(\\'variety\\').to_frame(\\'counts\\')\\ndf_variety_selected = df_variety[:15]\\nlist_variety = list(df_variety_selected.index)\\n\\ndef transform_variety(variety, list_variety):\\n  if variety in list_variety:\\n    return variety\\n  else:\\n    return \"other\"\\n\\ndf[\\'variety\\'] = df.progress_apply(lambda x:transform_variety(x.variety,list_variety), axis=1)'"
            ],
            "application/vnd.google.colaboratory.intrinsic+json": {
              "type": "string"
            }
          },
          "metadata": {},
          "execution_count": 7
        }
      ]
    },
    {
      "cell_type": "code",
      "source": [
        "X = df['image_clean'].values"
      ],
      "metadata": {
        "id": "KDKhkp9UDZih"
      },
      "execution_count": null,
      "outputs": []
    },
    {
      "cell_type": "code",
      "source": [
        "df['price_cat'].value_counts()"
      ],
      "metadata": {
        "colab": {
          "base_uri": "https://localhost:8080/"
        },
        "id": "HM4i9ENc1jaP",
        "outputId": "04c3af92-c673-4486-83e4-fc95bce86fcd"
      },
      "execution_count": null,
      "outputs": [
        {
          "output_type": "execute_result",
          "data": {
            "text/plain": [
              "alto     2084\n",
              "medio    1906\n",
              "bajo     1467\n",
              "Name: price_cat, dtype: int64"
            ]
          },
          "metadata": {},
          "execution_count": 9
        }
      ]
    },
    {
      "cell_type": "markdown",
      "source": [
        "Encoder:"
      ],
      "metadata": {
        "id": "zxnh_d_n1m6_"
      }
    },
    {
      "cell_type": "code",
      "source": [
        "price_dict = {'bajo':0, 'medio':1, 'alto':2}\n",
        "df['price_cat'] = df.price_cat.map(price_dict)"
      ],
      "metadata": {
        "id": "yCquPRdAu-P9"
      },
      "execution_count": null,
      "outputs": []
    },
    {
      "cell_type": "code",
      "source": [
        "df['price_cat'].value_counts()"
      ],
      "metadata": {
        "colab": {
          "base_uri": "https://localhost:8080/"
        },
        "id": "281z11XOfBOm",
        "outputId": "4c8a32e4-c159-4466-be7e-54714913ec5a"
      },
      "execution_count": null,
      "outputs": [
        {
          "output_type": "execute_result",
          "data": {
            "text/plain": [
              "2    2084\n",
              "1    1906\n",
              "0    1467\n",
              "Name: price_cat, dtype: int64"
            ]
          },
          "metadata": {},
          "execution_count": 11
        }
      ]
    },
    {
      "cell_type": "code",
      "source": [
        "y = df['price_cat'].values"
      ],
      "metadata": {
        "id": "YlYKRX8NvpnW"
      },
      "execution_count": null,
      "outputs": []
    },
    {
      "cell_type": "code",
      "source": [
        "X.shape,y.shape"
      ],
      "metadata": {
        "colab": {
          "base_uri": "https://localhost:8080/"
        },
        "id": "OiEc6aD4c-Mo",
        "outputId": "5a3752dd-d72a-48b9-d013-6955ff699562"
      },
      "execution_count": null,
      "outputs": [
        {
          "output_type": "execute_result",
          "data": {
            "text/plain": [
              "((5457,), (5457,))"
            ]
          },
          "metadata": {},
          "execution_count": 13
        }
      ]
    },
    {
      "cell_type": "code",
      "source": [
        "X= np.array(X)\n",
        "X= X.reshape(-1, 1)"
      ],
      "metadata": {
        "id": "UrU0vCvKwfXL"
      },
      "execution_count": null,
      "outputs": []
    },
    {
      "cell_type": "code",
      "source": [
        "X.shape"
      ],
      "metadata": {
        "colab": {
          "base_uri": "https://localhost:8080/"
        },
        "id": "WToWDchzdEr9",
        "outputId": "e7c28a69-efbe-404a-e424-d95c5fd590f8"
      },
      "execution_count": null,
      "outputs": [
        {
          "output_type": "execute_result",
          "data": {
            "text/plain": [
              "(5457, 1)"
            ]
          },
          "metadata": {},
          "execution_count": 15
        }
      ]
    },
    {
      "cell_type": "code",
      "source": [
        "from imblearn.over_sampling import RandomOverSampler\n",
        "\n",
        "ros = RandomOverSampler(sampling_strategy=\"not majority\")\n",
        "X,y = ros.fit_resample(X,y)"
      ],
      "metadata": {
        "id": "HOD_QAUAukgy"
      },
      "execution_count": null,
      "outputs": []
    },
    {
      "cell_type": "code",
      "source": [
        "X = X.flatten()"
      ],
      "metadata": {
        "id": "C9OYM8btw1To"
      },
      "execution_count": null,
      "outputs": []
    },
    {
      "cell_type": "code",
      "source": [
        "X.shape, y.shape"
      ],
      "metadata": {
        "colab": {
          "base_uri": "https://localhost:8080/"
        },
        "id": "t8qL0QisxYvZ",
        "outputId": "59de2a46-64c7-426b-91ea-94fbb77416be"
      },
      "execution_count": null,
      "outputs": [
        {
          "output_type": "execute_result",
          "data": {
            "text/plain": [
              "((6252,), (6252,))"
            ]
          },
          "metadata": {},
          "execution_count": 18
        }
      ]
    },
    {
      "cell_type": "code",
      "source": [
        "'''images = []\n",
        "path = \"/content/drive/MyDrive/TFM_Máster BDDS/datawine/vintage-images/\"\n",
        "for i in X:\n",
        "  image = cv2.imread(os.path.join(path, i), cv2.IMREAD_COLOR)\n",
        "  image = cv2.resize(image, (dim, dim))\n",
        "  image = cv2.cvtColor(image, cv2.COLOR_RGB2BGR)\n",
        "  images.append(image)\n",
        "\n",
        "X = np.array(images)'''"
      ],
      "metadata": {
        "id": "bLYON_mWyOkw",
        "colab": {
          "base_uri": "https://localhost:8080/",
          "height": 70
        },
        "outputId": "5c6cf604-d3ca-4f7a-d505-2dc3985e39cd"
      },
      "execution_count": null,
      "outputs": [
        {
          "output_type": "execute_result",
          "data": {
            "text/plain": [
              "'images = []\\npath = \"/content/drive/MyDrive/TFM_Máster BDDS/datawine/vintage-images/\"\\nfor i in X:\\n  image = cv2.imread(os.path.join(path, i), cv2.IMREAD_COLOR)\\n  image = cv2.resize(image, (dim, dim))\\n  image = cv2.cvtColor(image, cv2.COLOR_RGB2BGR)\\n  images.append(image)\\n\\nX = np.array(images)'"
            ],
            "application/vnd.google.colaboratory.intrinsic+json": {
              "type": "string"
            }
          },
          "metadata": {},
          "execution_count": 19
        }
      ]
    },
    {
      "cell_type": "markdown",
      "source": [
        "Guardo los features en un objeto numpy"
      ],
      "metadata": {
        "id": "ZS9x2rPldbCm"
      }
    },
    {
      "cell_type": "code",
      "source": [
        "'''with open('/content/drive/MyDrive/TFM_Máster BDDS/128_features_cnn_price.npy', 'wb') as f:\n",
        "    np.save(f, X)'''"
      ],
      "metadata": {
        "id": "rJ3F_FIZde03",
        "colab": {
          "base_uri": "https://localhost:8080/",
          "height": 35
        },
        "outputId": "afde946d-81b5-4a6c-ba45-f7e00eb09d18"
      },
      "execution_count": null,
      "outputs": [
        {
          "output_type": "execute_result",
          "data": {
            "text/plain": [
              "\"with open('/content/drive/MyDrive/TFM_Máster BDDS/128_features_cnn_price.npy', 'wb') as f:\\n    np.save(f, X)\""
            ],
            "application/vnd.google.colaboratory.intrinsic+json": {
              "type": "string"
            }
          },
          "metadata": {},
          "execution_count": 20
        }
      ]
    },
    {
      "cell_type": "markdown",
      "source": [
        "Abro features guardados:"
      ],
      "metadata": {
        "id": "XJCiWtq8fZGd"
      }
    },
    {
      "cell_type": "code",
      "source": [
        "with open('/content/drive/MyDrive/TFM_Máster BDDS/128_features_cnn_price.npy', 'rb') as f:\n",
        "    X= np.load(f)"
      ],
      "metadata": {
        "id": "P9PvwahGfdeg"
      },
      "execution_count": null,
      "outputs": []
    },
    {
      "cell_type": "code",
      "source": [
        "'''le = OrdinalEncoder() #Cambiamos a ordinalencoder en vez de labelencoder https://sitiobigdata.com/2019/11/22/variables-categoricas-en-aprendizaje-profundo/\n",
        "y = le.fit(y)\n",
        "y = le.transform(y)'''"
      ],
      "metadata": {
        "id": "OYcuhqEe_OSO",
        "colab": {
          "base_uri": "https://localhost:8080/",
          "height": 52
        },
        "outputId": "007b9ee5-38b3-4b03-98d0-51826fb31afc"
      },
      "execution_count": null,
      "outputs": [
        {
          "output_type": "execute_result",
          "data": {
            "text/plain": [
              "'le = OrdinalEncoder() #Cambiamos a ordinalencoder en vez de labelencoder https://sitiobigdata.com/2019/11/22/variables-categoricas-en-aprendizaje-profundo/\\ny = le.fit(y)\\ny = le.transform(y)'"
            ],
            "application/vnd.google.colaboratory.intrinsic+json": {
              "type": "string"
            }
          },
          "metadata": {},
          "execution_count": 22
        }
      ]
    },
    {
      "cell_type": "code",
      "source": [
        "X.shape,y.shape"
      ],
      "metadata": {
        "id": "9IezjwuC5ENE",
        "colab": {
          "base_uri": "https://localhost:8080/"
        },
        "outputId": "f5e2bd7a-e727-41e0-8525-eb8ca7261efe"
      },
      "execution_count": null,
      "outputs": [
        {
          "output_type": "execute_result",
          "data": {
            "text/plain": [
              "((6252, 128, 128, 3), (6252,))"
            ]
          },
          "metadata": {},
          "execution_count": 23
        }
      ]
    },
    {
      "cell_type": "code",
      "source": [
        "X_train, X_test, y_train, y_test = train_test_split(X, y, test_size = 0.2, random_state=42)"
      ],
      "metadata": {
        "id": "VwUcTbde-X2y"
      },
      "execution_count": null,
      "outputs": []
    },
    {
      "cell_type": "code",
      "source": [
        "X_train.shape,X_test.shape,y_train.shape,y_test.shape"
      ],
      "metadata": {
        "id": "sA1-cCy5-ur2",
        "colab": {
          "base_uri": "https://localhost:8080/"
        },
        "outputId": "bfd0485a-5dfe-41d2-e991-05cf4fe47f29"
      },
      "execution_count": null,
      "outputs": [
        {
          "output_type": "execute_result",
          "data": {
            "text/plain": [
              "((5001, 128, 128, 3), (1251, 128, 128, 3), (5001,), (1251,))"
            ]
          },
          "metadata": {},
          "execution_count": 25
        }
      ]
    },
    {
      "cell_type": "code",
      "source": [
        "plt.figure()\n",
        "plt.imshow(X_train[0])\n",
        "plt.colorbar()\n",
        "plt.grid(False)\n",
        "plt.show()"
      ],
      "metadata": {
        "id": "se41ZxhV_6K8",
        "colab": {
          "base_uri": "https://localhost:8080/",
          "height": 268
        },
        "outputId": "742f01bf-2e40-4975-9e45-1b9c3dbde201"
      },
      "execution_count": null,
      "outputs": [
        {
          "output_type": "display_data",
          "data": {
            "text/plain": [
              "<Figure size 432x288 with 2 Axes>"
            ],
            "image/png": "[encoded data removed]"
          },
          "metadata": {
            "needs_background": "light"
          }
        }
      ]
    },
    {
      "cell_type": "code",
      "source": [
        "X_train = X_train / 255.0\n",
        "\n",
        "X_test = X_test / 255.0"
      ],
      "metadata": {
        "id": "_pWfQdvnAdgR"
      },
      "execution_count": null,
      "outputs": []
    },
    {
      "cell_type": "code",
      "source": [
        "'''plt.figure(figsize=(10,10))\n",
        "for i in range(25):\n",
        "    plt.subplot(5,5,i+1)\n",
        "    plt.xticks([])\n",
        "    plt.yticks([])\n",
        "    plt.grid(False)\n",
        "    plt.imshow(X_train[i], cmap=plt.cm.binary)\n",
        "    plt.xlabel(le.classes_[y_train[i]])\n",
        "plt.show()'''"
      ],
      "metadata": {
        "id": "1rtvNRcvApBR",
        "colab": {
          "base_uri": "https://localhost:8080/",
          "height": 52
        },
        "outputId": "075c107e-1c40-4193-edc4-bd559cff909f"
      },
      "execution_count": null,
      "outputs": [
        {
          "output_type": "execute_result",
          "data": {
            "text/plain": [
              "'plt.figure(figsize=(10,10))\\nfor i in range(25):\\n    plt.subplot(5,5,i+1)\\n    plt.xticks([])\\n    plt.yticks([])\\n    plt.grid(False)\\n    plt.imshow(X_train[i], cmap=plt.cm.binary)\\n    plt.xlabel(le.classes_[y_train[i]])\\nplt.show()'"
            ],
            "application/vnd.google.colaboratory.intrinsic+json": {
              "type": "string"
            }
          },
          "metadata": {},
          "execution_count": 28
        }
      ]
    },
    {
      "cell_type": "code",
      "source": [
        "'''len(le.classes_)'''"
      ],
      "metadata": {
        "id": "65BNafhNB4s4",
        "colab": {
          "base_uri": "https://localhost:8080/",
          "height": 35
        },
        "outputId": "cf18229e-5fb0-4114-9bf8-af1c94d7cc6f"
      },
      "execution_count": null,
      "outputs": [
        {
          "output_type": "execute_result",
          "data": {
            "text/plain": [
              "'len(le.classes_)'"
            ],
            "application/vnd.google.colaboratory.intrinsic+json": {
              "type": "string"
            }
          },
          "metadata": {},
          "execution_count": 29
        }
      ]
    },
    {
      "cell_type": "markdown",
      "source": [
        "**Probando Red neuronal Convulsional Simple (Sin Dropout)**"
      ],
      "metadata": {
        "id": "n5ocXjWIhce3"
      }
    },
    {
      "cell_type": "code",
      "source": [
        "'''model = keras.Sequential([\n",
        "    keras.layers.RandomFlip(\"horizontal_and_vertical\"),\n",
        "    keras.layers.RandomRotation(0.2),\n",
        "    keras.layers.Flatten(input_shape=(128, 128,3)),\n",
        "    keras.layers.Dense(128, activation='relu'),\n",
        "    keras.layers.Dense(3, activation='softmax')\n",
        "])'''\n",
        "\n",
        "# We import the data set from tensorflow and build the model there\n",
        "import tensorflow as tf\n",
        "from tensorflow.keras import datasets, layers, models\n",
        "\n",
        "model = models.Sequential()\n",
        "model.add(layers.Conv2D(32, (3, 3), activation='relu', input_shape=(128, 128, 3)))\n",
        "model.add(layers.MaxPooling2D((2, 2)))\n",
        "model.add(layers.Conv2D(64, (3, 3), activation='relu'))\n",
        "model.add(layers.MaxPooling2D((2, 2)))\n",
        "\n",
        "model.add(layers.Conv2D(64, (3, 3), activation='relu'))\n",
        "model.add(layers.Flatten())\n",
        "model.add(layers.Dense(64, activation='relu'))\n",
        "model.add(layers.Dense(3))\n",
        "\n",
        "model.summary()"
      ],
      "metadata": {
        "id": "ctFTsXgLBKS7",
        "colab": {
          "base_uri": "https://localhost:8080/"
        },
        "outputId": "316ebc92-1941-449c-81a5-c03792063c5f"
      },
      "execution_count": null,
      "outputs": [
        {
          "output_type": "stream",
          "name": "stdout",
          "text": [
            "Model: \"sequential\"\n",
            "_________________________________________________________________\n",
            " Layer (type)                Output Shape              Param #   \n",
            "=================================================================\n",
            " conv2d (Conv2D)             (None, 126, 126, 32)      896       \n",
            "                                                                 \n",
            " max_pooling2d (MaxPooling2D  (None, 63, 63, 32)       0         \n",
            " )                                                               \n",
            "                                                                 \n",
            " conv2d_1 (Conv2D)           (None, 61, 61, 64)        18496     \n",
            "                                                                 \n",
            " max_pooling2d_1 (MaxPooling  (None, 30, 30, 64)       0         \n",
            " 2D)                                                             \n",
            "                                                                 \n",
            " conv2d_2 (Conv2D)           (None, 28, 28, 64)        36928     \n",
            "                                                                 \n",
            " flatten (Flatten)           (None, 50176)             0         \n",
            "                                                                 \n",
            " dense (Dense)               (None, 64)                3211328   \n",
            "                                                                 \n",
            " dense_1 (Dense)             (None, 3)                 195       \n",
            "                                                                 \n",
            "=================================================================\n",
            "Total params: 3,267,843\n",
            "Trainable params: 3,267,843\n",
            "Non-trainable params: 0\n",
            "_________________________________________________________________\n"
          ]
        }
      ]
    },
    {
      "cell_type": "code",
      "source": [
        "'''model.compile(optimizer='adam',\n",
        "              loss='sparse_categorical_crossentropy',\n",
        "              metrics=['accuracy', 'mse', 'mae'])'''\n",
        "              \n",
        "'''model.fit(X_train, y_train, epochs=50)'''"
      ],
      "metadata": {
        "id": "YeZoL2zZCKhw",
        "colab": {
          "base_uri": "https://localhost:8080/",
          "height": 35
        },
        "outputId": "2cece64b-c349-4cbd-c576-1f14b43ea51c"
      },
      "execution_count": null,
      "outputs": [
        {
          "output_type": "execute_result",
          "data": {
            "text/plain": [
              "'model.fit(X_train, y_train, epochs=50)'"
            ],
            "application/vnd.google.colaboratory.intrinsic+json": {
              "type": "string"
            }
          },
          "metadata": {},
          "execution_count": 31
        }
      ]
    },
    {
      "cell_type": "code",
      "source": [
        "model.compile(optimizer='adam', \n",
        "             loss=tf.keras.losses.SparseCategoricalCrossentropy(from_logits=True),\n",
        "             metrics=['accuracy','mse', 'mae'])\n",
        "\n",
        "history = model.fit(X_train, y_train, epochs=30, \n",
        "                    validation_data=(X_test, y_test))"
      ],
      "metadata": {
        "id": "Vx_Wd_J5CFuj",
        "colab": {
          "base_uri": "https://localhost:8080/"
        },
        "outputId": "576667a0-0f53-45c1-cbe1-26cbbf598c2a"
      },
      "execution_count": null,
      "outputs": [
        {
          "output_type": "stream",
          "name": "stdout",
          "text": [
            "Epoch 1/30\n",
            "157/157 [==============================] - 16s 27ms/step - loss: 1.1071 - accuracy: 0.3585 - mse: 1.7949 - mae: 1.0533 - val_loss: 1.1083 - val_accuracy: 0.3837 - val_mse: 2.1824 - val_mae: 1.2186\n",
            "Epoch 2/30\n",
            "157/157 [==============================] - 3s 22ms/step - loss: 1.0679 - accuracy: 0.4229 - mse: 2.1676 - mae: 1.2029 - val_loss: 1.1432 - val_accuracy: 0.3445 - val_mse: 3.0015 - val_mae: 1.4528\n",
            "Epoch 3/30\n",
            "157/157 [==============================] - 4s 23ms/step - loss: 1.0156 - accuracy: 0.4745 - mse: 2.4966 - mae: 1.2980 - val_loss: 1.0310 - val_accuracy: 0.4732 - val_mse: 2.5554 - val_mae: 1.3121\n",
            "Epoch 4/30\n",
            "157/157 [==============================] - 3s 22ms/step - loss: 0.9307 - accuracy: 0.5597 - mse: 3.2040 - mae: 1.4799 - val_loss: 1.0273 - val_accuracy: 0.5180 - val_mse: 4.1238 - val_mae: 1.6743\n",
            "Epoch 5/30\n",
            "157/157 [==============================] - 4s 23ms/step - loss: 0.7989 - accuracy: 0.6323 - mse: 4.3975 - mae: 1.6866 - val_loss: 1.0044 - val_accuracy: 0.5492 - val_mse: 4.2089 - val_mae: 1.6414\n",
            "Epoch 6/30\n",
            "157/157 [==============================] - 3s 21ms/step - loss: 0.6620 - accuracy: 0.7055 - mse: 6.4240 - mae: 1.9733 - val_loss: 1.0514 - val_accuracy: 0.5699 - val_mse: 6.2797 - val_mae: 1.9910\n",
            "Epoch 7/30\n",
            "157/157 [==============================] - 3s 21ms/step - loss: 0.5260 - accuracy: 0.7830 - mse: 10.1957 - mae: 2.4565 - val_loss: 1.1088 - val_accuracy: 0.5971 - val_mse: 7.1092 - val_mae: 2.0439\n",
            "Epoch 8/30\n",
            "157/157 [==============================] - 3s 21ms/step - loss: 0.4199 - accuracy: 0.8386 - mse: 14.0291 - mae: 2.8411 - val_loss: 1.2093 - val_accuracy: 0.6059 - val_mse: 10.6510 - val_mae: 2.4787\n",
            "Epoch 9/30\n",
            "157/157 [==============================] - 3s 22ms/step - loss: 0.3387 - accuracy: 0.8782 - mse: 18.9284 - mae: 3.3130 - val_loss: 1.3227 - val_accuracy: 0.6275 - val_mse: 13.7633 - val_mae: 2.7760\n",
            "Epoch 10/30\n",
            "157/157 [==============================] - 3s 21ms/step - loss: 0.2911 - accuracy: 0.9018 - mse: 22.8734 - mae: 3.6150 - val_loss: 1.6305 - val_accuracy: 0.6291 - val_mse: 19.9266 - val_mae: 3.3158\n",
            "Epoch 11/30\n",
            "157/157 [==============================] - 3s 21ms/step - loss: 0.2565 - accuracy: 0.9166 - mse: 25.1994 - mae: 3.8056 - val_loss: 1.4661 - val_accuracy: 0.6355 - val_mse: 17.4663 - val_mae: 3.1729\n",
            "Epoch 12/30\n",
            "157/157 [==============================] - 3s 21ms/step - loss: 0.1994 - accuracy: 0.9380 - mse: 29.0982 - mae: 4.1538 - val_loss: 1.4098 - val_accuracy: 0.6307 - val_mse: 16.0939 - val_mae: 3.0437\n",
            "Epoch 13/30\n",
            "157/157 [==============================] - 3s 21ms/step - loss: 0.1638 - accuracy: 0.9486 - mse: 29.5001 - mae: 4.2093 - val_loss: 1.6993 - val_accuracy: 0.6363 - val_mse: 23.9303 - val_mae: 3.7670\n",
            "Epoch 14/30\n",
            "157/157 [==============================] - 3s 22ms/step - loss: 0.1347 - accuracy: 0.9606 - mse: 35.6200 - mae: 4.6631 - val_loss: 1.5348 - val_accuracy: 0.6523 - val_mse: 20.8154 - val_mae: 3.5312\n",
            "Epoch 15/30\n",
            "157/157 [==============================] - 3s 21ms/step - loss: 0.1266 - accuracy: 0.9594 - mse: 31.5372 - mae: 4.4194 - val_loss: 1.7735 - val_accuracy: 0.6483 - val_mse: 30.7461 - val_mae: 4.2513\n",
            "Epoch 16/30\n",
            "157/157 [==============================] - 3s 22ms/step - loss: 0.1204 - accuracy: 0.9634 - mse: 34.8131 - mae: 4.6503 - val_loss: 1.6124 - val_accuracy: 0.6347 - val_mse: 20.3401 - val_mae: 3.4447\n",
            "Epoch 17/30\n",
            "157/157 [==============================] - 3s 22ms/step - loss: 0.1212 - accuracy: 0.9620 - mse: 34.9034 - mae: 4.6379 - val_loss: 1.4050 - val_accuracy: 0.6563 - val_mse: 17.6654 - val_mae: 3.2333\n",
            "Epoch 18/30\n",
            "157/157 [==============================] - 3s 22ms/step - loss: 0.1039 - accuracy: 0.9674 - mse: 33.3113 - mae: 4.5717 - val_loss: 1.5912 - val_accuracy: 0.6523 - val_mse: 22.7357 - val_mae: 3.6233\n",
            "Epoch 19/30\n",
            "157/157 [==============================] - 3s 22ms/step - loss: 0.0988 - accuracy: 0.9640 - mse: 35.4510 - mae: 4.7175 - val_loss: 1.6421 - val_accuracy: 0.6451 - val_mse: 23.9002 - val_mae: 3.7745\n",
            "Epoch 20/30\n",
            "157/157 [==============================] - 3s 22ms/step - loss: 0.0915 - accuracy: 0.9656 - mse: 34.0837 - mae: 4.6717 - val_loss: 1.5968 - val_accuracy: 0.6563 - val_mse: 24.7419 - val_mae: 3.8241\n",
            "Epoch 21/30\n",
            "157/157 [==============================] - 3s 22ms/step - loss: 0.0842 - accuracy: 0.9680 - mse: 36.3145 - mae: 4.8214 - val_loss: 1.5933 - val_accuracy: 0.6331 - val_mse: 20.9405 - val_mae: 3.5524\n",
            "Epoch 22/30\n",
            "157/157 [==============================] - 3s 21ms/step - loss: 0.0852 - accuracy: 0.9660 - mse: 35.7557 - mae: 4.7910 - val_loss: 1.6281 - val_accuracy: 0.6411 - val_mse: 23.3942 - val_mae: 3.7288\n",
            "Epoch 23/30\n",
            "157/157 [==============================] - 3s 22ms/step - loss: 0.0829 - accuracy: 0.9670 - mse: 34.1041 - mae: 4.6754 - val_loss: 1.6101 - val_accuracy: 0.6475 - val_mse: 23.5807 - val_mae: 3.7663\n",
            "Epoch 24/30\n",
            "157/157 [==============================] - 3s 22ms/step - loss: 0.0793 - accuracy: 0.9674 - mse: 34.8188 - mae: 4.7248 - val_loss: 1.7055 - val_accuracy: 0.6315 - val_mse: 26.0842 - val_mae: 3.9571\n",
            "Epoch 25/30\n",
            "157/157 [==============================] - 3s 21ms/step - loss: 0.0786 - accuracy: 0.9670 - mse: 34.3737 - mae: 4.7130 - val_loss: 1.7267 - val_accuracy: 0.6499 - val_mse: 28.9462 - val_mae: 4.1571\n",
            "Epoch 26/30\n",
            "157/157 [==============================] - 3s 21ms/step - loss: 0.0738 - accuracy: 0.9678 - mse: 37.1964 - mae: 4.9065 - val_loss: 1.6507 - val_accuracy: 0.6475 - val_mse: 24.6233 - val_mae: 3.8460\n",
            "Epoch 27/30\n",
            "157/157 [==============================] - 3s 21ms/step - loss: 0.0767 - accuracy: 0.9698 - mse: 33.9506 - mae: 4.6738 - val_loss: 1.6210 - val_accuracy: 0.6371 - val_mse: 24.2582 - val_mae: 3.7903\n",
            "Epoch 28/30\n",
            "157/157 [==============================] - 3s 22ms/step - loss: 0.0794 - accuracy: 0.9672 - mse: 36.4198 - mae: 4.8255 - val_loss: 1.6211 - val_accuracy: 0.6403 - val_mse: 23.8595 - val_mae: 3.7529\n",
            "Epoch 29/30\n",
            "157/157 [==============================] - 3s 22ms/step - loss: 0.0819 - accuracy: 0.9662 - mse: 35.3105 - mae: 4.7721 - val_loss: 1.5828 - val_accuracy: 0.6571 - val_mse: 23.8439 - val_mae: 3.7468\n",
            "Epoch 30/30\n",
            "157/157 [==============================] - 3s 22ms/step - loss: 0.0791 - accuracy: 0.9700 - mse: 38.2466 - mae: 4.9285 - val_loss: 1.6693 - val_accuracy: 0.6403 - val_mse: 25.9156 - val_mae: 3.8631\n"
          ]
        }
      ]
    },
    {
      "cell_type": "code",
      "source": [
        "plt.plot(history.history['accuracy'], label='accuracy')\n",
        "plt.plot(history.history['val_accuracy'], label = 'val_accuracy')\n",
        "plt.xlabel('Epoch')\n",
        "plt.ylabel('Accuracy')\n",
        "plt.ylim([0, 1])\n",
        "plt.legend(loc='lower right')"
      ],
      "metadata": {
        "colab": {
          "base_uri": "https://localhost:8080/"
        },
        "id": "6StWQRtzh89A",
        "outputId": "900e1c02-6b12-4a7c-a0b1-831db8593e42"
      },
      "execution_count": null,
      "outputs": [
        {
          "output_type": "execute_result",
          "data": {
            "text/plain": [
              "<matplotlib.legend.Legend at 0x7f2ea01ae4d0>"
            ]
          },
          "metadata": {},
          "execution_count": 33
        },
        {
          "output_type": "display_data",
          "data": {
            "text/plain": [
              "<Figure size 432x288 with 1 Axes>"
            ],
            "image/png": "[encoded data removed]"
          },
          "metadata": {
            "needs_background": "light"
          }
        }
      ]
    },
    {
      "cell_type": "code",
      "source": [
        "plt.plot(history.history['mse'], label='mse')\n",
        "plt.plot(history.history['val_mse'], label = 'val_mse')\n",
        "plt.xlabel('Epoch')\n",
        "plt.ylabel('Mse')\n",
        "plt.ylim([0, 100])\n",
        "plt.legend(loc='lower right')"
      ],
      "metadata": {
        "colab": {
          "base_uri": "https://localhost:8080/"
        },
        "id": "Nf78wiUZyFFV",
        "outputId": "cb6d2692-6a74-4e93-c435-c8dfa80366b3"
      },
      "execution_count": null,
      "outputs": [
        {
          "output_type": "execute_result",
          "data": {
            "text/plain": [
              "<matplotlib.legend.Legend at 0x7f2ea01a4e50>"
            ]
          },
          "metadata": {},
          "execution_count": 34
        },
        {
          "output_type": "display_data",
          "data": {
            "text/plain": [
              "<Figure size 432x288 with 1 Axes>"
            ],
            "image/png": "[encoded data removed]"
          },
          "metadata": {
            "needs_background": "light"
          }
        }
      ]
    },
    {
      "cell_type": "code",
      "source": [
        "plt.plot(history.history['loss'], label='loss')\n",
        "plt.plot(history.history['val_loss'], label = 'val_loss')\n",
        "plt.xlabel('Epoch')\n",
        "plt.ylabel('Loss')\n",
        "plt.ylim([0, 5])\n",
        "plt.legend(loc='lower right')"
      ],
      "metadata": {
        "colab": {
          "base_uri": "https://localhost:8080/"
        },
        "id": "NXqCwMAFh93w",
        "outputId": "75e8ae04-f4a7-4d0d-ea65-d03feb93b2c9"
      },
      "execution_count": null,
      "outputs": [
        {
          "output_type": "execute_result",
          "data": {
            "text/plain": [
              "<matplotlib.legend.Legend at 0x7f2ea01a4a50>"
            ]
          },
          "metadata": {},
          "execution_count": 35
        },
        {
          "output_type": "display_data",
          "data": {
            "text/plain": [
              "<Figure size 432x288 with 1 Axes>"
            ],
            "image/png": "[encoded data removed]"
          },
          "metadata": {
            "needs_background": "light"
          }
        }
      ]
    },
    {
      "cell_type": "code",
      "source": [
        "score = model.evaluate(X_test, y_test, verbose=0)\n",
        "print('Test loss:', score[0])\n",
        "print('Test accuracy:', score[1])\n",
        "\n"
      ],
      "metadata": {
        "id": "u8T7u5gPCRtH",
        "colab": {
          "base_uri": "https://localhost:8080/"
        },
        "outputId": "36fa5ecf-2495-43f2-bf94-b9c769e635ff"
      },
      "execution_count": null,
      "outputs": [
        {
          "output_type": "stream",
          "name": "stdout",
          "text": [
            "Test loss: 1.669269323348999\n",
            "Test accuracy: 0.6402877569198608\n"
          ]
        }
      ]
    },
    {
      "cell_type": "code",
      "source": [
        "import joblib\n",
        "\n",
        "joblib.dump(model, '/content/drive/MyDrive/TFM_Máster BDDS/Modelos/modelo_cnn_precio_categorica_v2.pkl')"
      ],
      "metadata": {
        "id": "SH9ZgHjPNNt_",
        "colab": {
          "base_uri": "https://localhost:8080/"
        },
        "outputId": "f49a68c3-d224-46b5-83af-01b19166ff2e"
      },
      "execution_count": null,
      "outputs": [
        {
          "output_type": "execute_result",
          "data": {
            "text/plain": [
              "['/content/drive/MyDrive/TFM_Máster BDDS/Modelos/modelo_cnn_precio_categorica_v2.pkl']"
            ]
          },
          "metadata": {},
          "execution_count": 37
        }
      ]
    },
    {
      "cell_type": "markdown",
      "source": [
        "**Red Neuronal Convulsional con Dropout**"
      ],
      "metadata": {
        "id": "nSM7NR33ilos"
      }
    },
    {
      "cell_type": "code",
      "source": [
        "from keras.models import Sequential\n",
        "from keras.layers import Conv2D, MaxPooling2D, Flatten, Dense, Dropout, Activation\n",
        "from keras.regularizers import l1_l2\n",
        "\n",
        "model = Sequential()\n",
        "\n",
        "#### Input Layer ####\n",
        "model.add(Conv2D(filters=32, kernel_size=(3,3), padding='same',\n",
        "                 activation='relu', input_shape=(128, 128, 3)))\n",
        "\n",
        "#### Convolutional Layers ####\n",
        "model.add(Conv2D(32, (3,3), activation='relu'))\n",
        "model.add(MaxPooling2D((2,2)))  # Pooling\n",
        "model.add(Dropout(0.2)) # Dropout\n",
        "\n",
        "model.add(Conv2D(64, (3,3), padding='same', activation='relu'))\n",
        "model.add(Conv2D(64, (3,3), activation='relu'))\n",
        "model.add(MaxPooling2D((2,2)))\n",
        "model.add(Dropout(0.2))\n",
        "\n",
        "model.add(Conv2D(128, (3,3), padding='same', activation='relu'))\n",
        "model.add(Conv2D(128, (3,3), activation='relu'))\n",
        "model.add(Activation('relu'))\n",
        "model.add(MaxPooling2D((2,2)))\n",
        "model.add(Dropout(0.2))\n",
        "\n",
        "model.add(Conv2D(512, (5,5), padding='same', activation='relu'))\n",
        "model.add(Conv2D(512, (5,5), activation='relu'))\n",
        "model.add(MaxPooling2D((4,4)))\n",
        "model.add(Dropout(0.2))\n",
        "\n",
        "#### Fully-Connected Layer ####\n",
        "model.add(Flatten())\n",
        "model.add(Dense(1024, activation='relu'))\n",
        "model.add(Dropout(0.2))\n",
        "model.add(Dense(3, activation='softmax'))\n",
        "\n",
        "model.summary() # a handy way to inspect the architecture"
      ],
      "metadata": {
        "id": "TkmSQyTBN9hp",
        "colab": {
          "base_uri": "https://localhost:8080/"
        },
        "outputId": "7a573cbd-50a3-4be4-92ad-b90daf122599"
      },
      "execution_count": null,
      "outputs": [
        {
          "output_type": "stream",
          "name": "stdout",
          "text": [
            "Model: \"sequential_1\"\n",
            "_________________________________________________________________\n",
            " Layer (type)                Output Shape              Param #   \n",
            "=================================================================\n",
            " conv2d_3 (Conv2D)           (None, 128, 128, 32)      896       \n",
            "                                                                 \n",
            " conv2d_4 (Conv2D)           (None, 126, 126, 32)      9248      \n",
            "                                                                 \n",
            " max_pooling2d_2 (MaxPooling  (None, 63, 63, 32)       0         \n",
            " 2D)                                                             \n",
            "                                                                 \n",
            " dropout (Dropout)           (None, 63, 63, 32)        0         \n",
            "                                                                 \n",
            " conv2d_5 (Conv2D)           (None, 63, 63, 64)        18496     \n",
            "                                                                 \n",
            " conv2d_6 (Conv2D)           (None, 61, 61, 64)        36928     \n",
            "                                                                 \n",
            " max_pooling2d_3 (MaxPooling  (None, 30, 30, 64)       0         \n",
            " 2D)                                                             \n",
            "                                                                 \n",
            " dropout_1 (Dropout)         (None, 30, 30, 64)        0         \n",
            "                                                                 \n",
            " conv2d_7 (Conv2D)           (None, 30, 30, 128)       73856     \n",
            "                                                                 \n",
            " conv2d_8 (Conv2D)           (None, 28, 28, 128)       147584    \n",
            "                                                                 \n",
            " activation (Activation)     (None, 28, 28, 128)       0         \n",
            "                                                                 \n",
            " max_pooling2d_4 (MaxPooling  (None, 14, 14, 128)      0         \n",
            " 2D)                                                             \n",
            "                                                                 \n",
            " dropout_2 (Dropout)         (None, 14, 14, 128)       0         \n",
            "                                                                 \n",
            " conv2d_9 (Conv2D)           (None, 14, 14, 512)       1638912   \n",
            "                                                                 \n",
            " conv2d_10 (Conv2D)          (None, 10, 10, 512)       6554112   \n",
            "                                                                 \n",
            " max_pooling2d_5 (MaxPooling  (None, 2, 2, 512)        0         \n",
            " 2D)                                                             \n",
            "                                                                 \n",
            " dropout_3 (Dropout)         (None, 2, 2, 512)         0         \n",
            "                                                                 \n",
            " flatten_1 (Flatten)         (None, 2048)              0         \n",
            "                                                                 \n",
            " dense_2 (Dense)             (None, 1024)              2098176   \n",
            "                                                                 \n",
            " dropout_4 (Dropout)         (None, 1024)              0         \n",
            "                                                                 \n",
            " dense_3 (Dense)             (None, 3)                 3075      \n",
            "                                                                 \n",
            "=================================================================\n",
            "Total params: 10,581,283\n",
            "Trainable params: 10,581,283\n",
            "Non-trainable params: 0\n",
            "_________________________________________________________________\n"
          ]
        }
      ]
    },
    {
      "cell_type": "code",
      "source": [
        "%%time\n",
        "\n",
        "\n",
        "import tensorflow as tf\n",
        "from tensorflow.keras.optimizers import RMSprop\n",
        "from keras.callbacks import ModelCheckpoint, EarlyStopping, TensorBoard\n",
        "#from livelossplot import PlotLossesKeras\n",
        "#from livelossplot.inputs.tf_keras import PlotLossesCallback\n",
        "\n",
        "BATCH_SIZE = 32\n",
        "steps_per_epoch = X_train.shape[0] // BATCH_SIZE\n",
        "val_steps = y_train.shape[0] // BATCH_SIZE\n",
        "\n",
        "n_epochs = 30\n",
        "\n",
        "optimizer = RMSprop(learning_rate=0.0001)\n",
        "\n",
        "model.compile(loss=tf.keras.losses.SparseCategoricalCrossentropy(from_logits=True), optimizer=optimizer, metrics=['accuracy','mse', 'mae'])\n",
        "\n",
        "# Saves Keras model after each epoch\n",
        "checkpointer = ModelCheckpoint(filepath='img_model.weights.best.hdf5', \n",
        "                               verbose=1, \n",
        "                               save_best_only=True)\n",
        "\n",
        "# Early stopping to prevent overtraining and to ensure decreasing validation loss\n",
        "early_stop = EarlyStopping(monitor='val_loss',\n",
        "                           patience=10,\n",
        "                           restore_best_weights=True,\n",
        "                           mode='min')\n",
        "\n",
        "# tensorboard_callback = TensorBoard(log_dir=\"./logs\")\n",
        "\n",
        "# Actual fitting of the model\n",
        "history = model.fit(X_train,\n",
        "                    y_train,\n",
        "                    epochs=n_epochs, \n",
        "                    #steps_per_epoch=steps_per_epoch,\n",
        "                    validation_data=(X_test, y_test),\n",
        "                    #validation_steps=val_steps,\n",
        "                    callbacks=[checkpointer],\n",
        "                    verbose=True)"
      ],
      "metadata": {
        "colab": {
          "base_uri": "https://localhost:8080/"
        },
        "id": "YbXQxWtHiyiI",
        "outputId": "ea569597-49bd-4c1a-d81f-8df05d16f7b0"
      },
      "execution_count": null,
      "outputs": [
        {
          "output_type": "stream",
          "name": "stdout",
          "text": [
            "Epoch 1/30\n"
          ]
        },
        {
          "output_type": "stream",
          "name": "stderr",
          "text": [
            "/usr/local/lib/python3.7/dist-packages/tensorflow/python/util/dispatch.py:1082: UserWarning: \"`sparse_categorical_crossentropy` received `from_logits=True`, but the `output` argument was produced by a sigmoid or softmax activation and thus does not represent logits. Was this intended?\"\n",
            "  return dispatch_target(*args, **kwargs)\n"
          ]
        },
        {
          "output_type": "stream",
          "name": "stdout",
          "text": [
            "157/157 [==============================] - ETA: 0s - loss: 1.1002 - accuracy: 0.3219 - mse: 1.0982 - mae: 0.8832\n",
            "Epoch 1: val_loss improved from inf to 1.09684, saving model to img_model.weights.best.hdf5\n",
            "157/157 [==============================] - 17s 92ms/step - loss: 1.1002 - accuracy: 0.3219 - mse: 1.0982 - mae: 0.8832 - val_loss: 1.0968 - val_accuracy: 0.3853 - val_mse: 1.1636 - val_mae: 0.9115\n",
            "Epoch 2/30\n",
            "156/157 [============================>.] - ETA: 0s - loss: 1.0861 - accuracy: 0.3876 - mse: 1.1015 - mae: 0.8833\n",
            "Epoch 2: val_loss improved from 1.09684 to 1.08418, saving model to img_model.weights.best.hdf5\n",
            "157/157 [==============================] - 13s 82ms/step - loss: 1.0861 - accuracy: 0.3879 - mse: 1.1014 - mae: 0.8832 - val_loss: 1.0842 - val_accuracy: 0.3941 - val_mse: 1.1654 - val_mae: 0.9115\n",
            "Epoch 3/30\n",
            "156/157 [============================>.] - ETA: 0s - loss: 1.0745 - accuracy: 0.4125 - mse: 1.1043 - mae: 0.8835\n",
            "Epoch 3: val_loss did not improve from 1.08418\n",
            "157/157 [==============================] - 13s 81ms/step - loss: 1.0744 - accuracy: 0.4127 - mse: 1.1038 - mae: 0.8832 - val_loss: 1.1126 - val_accuracy: 0.4005 - val_mse: 1.1764 - val_mae: 0.9115\n",
            "Epoch 4/30\n",
            "156/157 [============================>.] - ETA: 0s - loss: 1.0618 - accuracy: 0.4359 - mse: 1.1061 - mae: 0.8827\n",
            "Epoch 4: val_loss improved from 1.08418 to 1.04971, saving model to img_model.weights.best.hdf5\n",
            "157/157 [==============================] - 13s 82ms/step - loss: 1.0618 - accuracy: 0.4359 - mse: 1.1072 - mae: 0.8832 - val_loss: 1.0497 - val_accuracy: 0.4484 - val_mse: 1.1702 - val_mae: 0.9115\n",
            "Epoch 5/30\n",
            "156/157 [============================>.] - ETA: 0s - loss: 1.0476 - accuracy: 0.4445 - mse: 1.1094 - mae: 0.8829\n",
            "Epoch 5: val_loss improved from 1.04971 to 1.03589, saving model to img_model.weights.best.hdf5\n",
            "157/157 [==============================] - 13s 82ms/step - loss: 1.0475 - accuracy: 0.4445 - mse: 1.1100 - mae: 0.8832 - val_loss: 1.0359 - val_accuracy: 0.4516 - val_mse: 1.1765 - val_mae: 0.9115\n",
            "Epoch 6/30\n",
            "156/157 [============================>.] - ETA: 0s - loss: 1.0289 - accuracy: 0.4690 - mse: 1.1135 - mae: 0.8830\n",
            "Epoch 6: val_loss improved from 1.03589 to 1.02780, saving model to img_model.weights.best.hdf5\n",
            "157/157 [==============================] - 13s 81ms/step - loss: 1.0291 - accuracy: 0.4691 - mse: 1.1140 - mae: 0.8832 - val_loss: 1.0278 - val_accuracy: 0.4796 - val_mse: 1.1742 - val_mae: 0.9115\n",
            "Epoch 7/30\n",
            "156/157 [============================>.] - ETA: 0s - loss: 1.0147 - accuracy: 0.4746 - mse: 1.1173 - mae: 0.8831\n",
            "Epoch 7: val_loss improved from 1.02780 to 1.01616, saving model to img_model.weights.best.hdf5\n",
            "157/157 [==============================] - 13s 81ms/step - loss: 1.0150 - accuracy: 0.4743 - mse: 1.1174 - mae: 0.8832 - val_loss: 1.0162 - val_accuracy: 0.4708 - val_mse: 1.1759 - val_mae: 0.9115\n",
            "Epoch 8/30\n",
            "156/157 [============================>.] - ETA: 0s - loss: 1.0031 - accuracy: 0.4832 - mse: 1.1191 - mae: 0.8833\n",
            "Epoch 8: val_loss improved from 1.01616 to 1.00265, saving model to img_model.weights.best.hdf5\n",
            "157/157 [==============================] - 13s 82ms/step - loss: 1.0030 - accuracy: 0.4831 - mse: 1.1192 - mae: 0.8832 - val_loss: 1.0027 - val_accuracy: 0.5028 - val_mse: 1.1841 - val_mae: 0.9115\n",
            "Epoch 9/30\n",
            "156/157 [============================>.] - ETA: 0s - loss: 0.9836 - accuracy: 0.5054 - mse: 1.1233 - mae: 0.8832\n",
            "Epoch 9: val_loss improved from 1.00265 to 0.99528, saving model to img_model.weights.best.hdf5\n",
            "157/157 [==============================] - 13s 83ms/step - loss: 0.9838 - accuracy: 0.5055 - mse: 1.1233 - mae: 0.8832 - val_loss: 0.9953 - val_accuracy: 0.5012 - val_mse: 1.1797 - val_mae: 0.9115\n",
            "Epoch 10/30\n",
            " 78/157 [=============>................] - ETA: 5s - loss: 0.9555 - accuracy: 0.5276 - mse: 1.1261 - mae: 0.8818"
          ]
        }
      ]
    },
    {
      "cell_type": "code",
      "source": [
        "plt.plot(history.history['accuracy'], label='accuracy')\n",
        "plt.plot(history.history['val_accuracy'], label = 'val_accuracy')\n",
        "plt.xlabel('Epoch')\n",
        "plt.ylabel('Accuracy')\n",
        "plt.ylim([0, 1])\n",
        "plt.legend(loc='lower right')"
      ],
      "metadata": {
        "id": "nAxeZGm3jL1p"
      },
      "execution_count": null,
      "outputs": []
    },
    {
      "cell_type": "code",
      "source": [
        "plt.plot(history.history['mae'], label='mae')\n",
        "plt.plot(history.history['val_mae'], label = 'val_mae')\n",
        "plt.xlabel('Epoch')\n",
        "plt.ylabel('Mae')\n",
        "plt.ylim([0, 1])\n",
        "plt.legend(loc='lower right')"
      ],
      "metadata": {
        "id": "uwbg4Cn51Tqt"
      },
      "execution_count": null,
      "outputs": []
    },
    {
      "cell_type": "code",
      "source": [
        "plt.plot(history.history['loss'], label='loss')\n",
        "plt.plot(history.history['val_loss'], label = 'val_loss')\n",
        "plt.xlabel('Epoch')\n",
        "plt.ylabel('Loss')\n",
        "plt.ylim([0, 5])\n",
        "plt.legend(loc='lower right')"
      ],
      "metadata": {
        "id": "fgEH2ExsjL1q"
      },
      "execution_count": null,
      "outputs": []
    },
    {
      "cell_type": "code",
      "source": [
        "score = model.evaluate(X_test, y_test, verbose=0)\n",
        "print('Test loss:', score[0])\n",
        "print('Test accuracy:', score[1])"
      ],
      "metadata": {
        "id": "gmVDbeGljyzT"
      },
      "execution_count": null,
      "outputs": []
    },
    {
      "cell_type": "code",
      "source": [
        "from sklearn.metrics import classification_report, confusion_matrix, accuracy_score, recall_score, precision_score, f1_score"
      ],
      "metadata": {
        "id": "gURGLddXqZJB"
      },
      "execution_count": null,
      "outputs": []
    },
    {
      "cell_type": "code",
      "source": [
        "y_pred = model.predict(X_test)\n",
        "\n",
        "y_test_arg=np.argmax(y_test)\n",
        "Y_pred = np.argmax(model.predict(X_test),axis=1)\n",
        "print('Confusion Matrix')\n",
        "print(confusion_matrix(y_test, Y_pred))\n",
        "print('Accuracy')\n",
        "print(accuracy_score(y_test, Y_pred))\n",
        "print('Recall')\n",
        "print(recall_score(y_test, Y_pred, pos_label='positive',average='micro'))\n",
        "print('Precision')\n",
        "print(precision_score(y_test, Y_pred, pos_label='positive',average='micro'))\n",
        "print('F1')\n",
        "print(f1_score(y_test, Y_pred, pos_label='positive',average='micro'))"
      ],
      "metadata": {
        "id": "awlRBgxyq5Cm",
        "colab": {
          "base_uri": "https://localhost:8080/"
        },
        "outputId": "2cef0aa9-a5e8-4a0e-9830-7abf2b76c9a2"
      },
      "execution_count": 47,
      "outputs": [
        {
          "output_type": "stream",
          "name": "stdout",
          "text": [
            "Confusion Matrix\n",
            "[[266 137  13]\n",
            " [ 57 297  36]\n",
            " [ 22 197 226]]\n",
            "Accuracy\n",
            "0.6306954436450839\n",
            "Recall\n",
            "0.6306954436450839\n",
            "Precision\n",
            "0.6306954436450839\n",
            "F1\n",
            "0.6306954436450839\n"
          ]
        },
        {
          "output_type": "stream",
          "name": "stderr",
          "text": [
            "/usr/local/lib/python3.7/dist-packages/sklearn/metrics/_classification.py:1375: UserWarning: Note that pos_label (set to 'positive') is ignored when average != 'binary' (got 'micro'). You may use labels=[pos_label] to specify a single positive class.\n",
            "  UserWarning,\n",
            "/usr/local/lib/python3.7/dist-packages/sklearn/metrics/_classification.py:1375: UserWarning: Note that pos_label (set to 'positive') is ignored when average != 'binary' (got 'micro'). You may use labels=[pos_label] to specify a single positive class.\n",
            "  UserWarning,\n",
            "/usr/local/lib/python3.7/dist-packages/sklearn/metrics/_classification.py:1375: UserWarning: Note that pos_label (set to 'positive') is ignored when average != 'binary' (got 'micro'). You may use labels=[pos_label] to specify a single positive class.\n",
            "  UserWarning,\n"
          ]
        }
      ]
    },
    {
      "cell_type": "code",
      "source": [
        "import joblib\n",
        "\n",
        "joblib.dump(model, '/content/drive/MyDrive/TFM_Máster BDDS/Modelos/modelo_cnn_dropout_precio_categorica_v2.pkl')"
      ],
      "metadata": {
        "id": "6DgP_x9-j3PI"
      },
      "execution_count": null,
      "outputs": []
    }
  ]
}